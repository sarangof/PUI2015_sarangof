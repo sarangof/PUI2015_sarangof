{
 "cells": [
  {
   "cell_type": "code",
   "execution_count": 82,
   "metadata": {
    "collapsed": false
   },
   "outputs": [
    {
     "name": "stdout",
     "output_type": "stream",
     "text": [
      "Populating the interactive namespace from numpy and matplotlib\n"
     ]
    }
   ],
   "source": [
    "#Importing modules and libraries\n",
    "import pylab as pl\n",
    "import pandas as pd\n",
    "import numpy as np\n",
    "%pylab inline\n",
    "\n",
    "import os"
   ]
  },
  {
   "cell_type": "code",
   "execution_count": 83,
   "metadata": {
    "collapsed": false
   },
   "outputs": [],
   "source": [
    "#Reading the dataset as a panda dataframe\n",
    "bikedata=pd.read_csv('201410-citibike-tripdata.csv')"
   ]
  },
  {
   "cell_type": "code",
   "execution_count": 84,
   "metadata": {
    "collapsed": false
   },
   "outputs": [],
   "source": [
    "#Calculating age from dataframe \n",
    "bikedata['age'] = 2014 - bikedata['birth year']"
   ]
  },
  {
   "cell_type": "markdown",
   "metadata": {},
   "source": [
    "Null Hypotesis:\n",
    "\n",
    "The proportion of Citibike riders aged above 40 years, is higher or equal to the proportion of riders aged less or equal to 40 years for a month with controlled climate variables. We selected the month of October because it presents the smaller amount of average rainfall per month a year.\n",
    "\n",
    "$P_o$: *Proportion of riders above 40 years old.*\n",
    "\n",
    "$P_1$: *Proportion of riders below 40 years old.*\n",
    "\n",
    "$$H_0: P_0 - P_1 \\geq 0 $$\n",
    "$$H_1: P_0 - P_1 < 0 $$\n",
    "\n"
   ]
  },
  {
   "cell_type": "code",
   "execution_count": 85,
   "metadata": {
    "collapsed": false
   },
   "outputs": [
    {
     "data": {
      "text/plain": [
       "<matplotlib.axes._subplots.AxesSubplot at 0x326acd30>"
      ]
     },
     "execution_count": 85,
     "metadata": {},
     "output_type": "execute_result"
    },
    {
     "data": {
      "image/png": "[encoded data removed]",
      "text/plain": [
       "<matplotlib.figure.Figure at 0xbe03c88>"
      ]
     },
     "metadata": {},
     "output_type": "display_data"
    }
   ],
   "source": [
    "#Plotting age ranges\n",
    "((bikedata['age'].groupby(bikedata['age']<= 40).count())).plot(kind=\"bar\", color='IndianRed', alpha=0.5)"
   ]
  },
  {
   "cell_type": "code",
   "execution_count": 86,
   "metadata": {
    "collapsed": false
   },
   "outputs": [],
   "source": [
    "#Defining variable for agreggated age range \n",
    "AgeProp = bikedata['age'].groupby(bikedata['age']<= 40).count()"
   ]
  },
  {
   "cell_type": "code",
   "execution_count": 87,
   "metadata": {
    "collapsed": false
   },
   "outputs": [
    {
     "name": "stdout",
     "output_type": "stream",
     "text": [
      "age\n",
      "False    0.361541\n",
      "True     0.638459\n",
      "Name: age, dtype: float64\n"
     ]
    }
   ],
   "source": [
    "#Defining multiple variables for agreggated age ranges\n",
    "N = AgeProp.sum()\n",
    "ticks = AgeProp/AgeProp.sum()\n",
    "p0 = ticks[1]\n",
    "p1 = ticks[0]\n",
    "print ticks\n",
    "#print(AgeProp[1])\n",
    "#print(AgeProp[0])"
   ]
  },
  {
   "cell_type": "code",
   "execution_count": 88,
   "metadata": {
    "collapsed": false
   },
   "outputs": [
    {
     "name": "stdout",
     "output_type": "stream",
     "text": [
      "The estimated diference of proportions is: 0.276918580772\n",
      "The estimated z score is:502.349792817\n"
     ]
    }
   ],
   "source": [
    "#Calculating proportions for each defined data range\n",
    "#Calculating standard deviation\n",
    "#Calculating Z-score\n",
    "P0mP1=p0-p1\n",
    "print(\"The estimated diference of proportions is: \") +str(P0mP1)\n",
    "\n",
    "sp_stdev= lambda p0, n1: np.sqrt(p0*(1-p0)/n1)\n",
    "sp_stdev_age=sp_stdev(p0,N)\n",
    "\n",
    "zscore = lambda p0, p1, s : (p0-p1)/s\n",
    "z = zscore(p0,p1,sp_stdev_age)\n",
    "print(\"The estimated z score is:\") + str(z)"
   ]
  },
  {
   "cell_type": "code",
   "execution_count": 89,
   "metadata": {
    "collapsed": false
   },
   "outputs": [
    {
     "name": "stdout",
     "output_type": "stream",
     "text": [
      "is the p value 0.00 smaller than the critical value 0.05? \n",
      "YES!\n",
      "the Null hypothesis is rejected\n"
     ]
    }
   ],
   "source": [
    "p_2y=1-0.9998\n",
    "alpha = 0.05\n",
    "\n",
    "def report_result(p,a):\n",
    "    print 'is the p value {0:.2f} smaller than the critical value {1:.2f}? '.format(p,a)\n",
    "    if p<a:\n",
    "        print \"YES!\"\n",
    "    else: print \"NO!\"\n",
    "    \n",
    "    print 'the Null hypothesis is {}'.format( 'rejected' if p<a  else 'not rejected') \n",
    "\n",
    "report_result(p_2y,alpha)"
   ]
  },
  {
   "cell_type": "code",
   "execution_count": null,
   "metadata": {
    "collapsed": true
   },
   "outputs": [],
   "source": []
  }
 ],
 "metadata": {
  "kernelspec": {
   "display_name": "Python 2",
   "language": "python",
   "name": "python2"
  },
  "language_info": {
   "codemirror_mode": {
    "name": "ipython",
    "version": 2
   },
   "file_extension": ".py",
   "mimetype": "text/x-python",
   "name": "python",
   "nbconvert_exporter": "python",
   "pygments_lexer": "ipython2",
   "version": "2.7.10"
  }
 },
 "nbformat": 4,
 "nbformat_minor": 0
}
